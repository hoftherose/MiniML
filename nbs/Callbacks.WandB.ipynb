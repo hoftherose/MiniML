{
 "cells": [
  {
   "cell_type": "code",
   "execution_count": null,
   "metadata": {},
   "outputs": [],
   "source": [
    "#default_exp Callbacks.WandB"
   ]
  },
  {
   "cell_type": "code",
   "execution_count": null,
   "metadata": {},
   "outputs": [],
   "source": [
    "#hide\n",
    "%reload_ext autoreload\n",
    "%autoreload 2\n",
    "%matplotlib inline"
   ]
  },
  {
   "cell_type": "markdown",
   "metadata": {},
   "source": [
    "# Weights and Biases\n",
    "> Learning to use the wandb callback in fastaiv2"
   ]
  },
  {
   "cell_type": "markdown",
   "metadata": {},
   "source": [
    "# Recap"
   ]
  },
  {
   "cell_type": "markdown",
   "metadata": {},
   "source": [
    "Notes following the first lesson of the fastai 2019 Deep Learning for Practitioners Course. Code follows the lesson using fastaiv2, fastcore and is documented using the nbdev library.\n",
    "\n",
    "To start make sure you can import the fastai2 library and nbdev."
   ]
  },
  {
   "cell_type": "code",
   "execution_count": null,
   "metadata": {},
   "outputs": [],
   "source": [
    "#export\n",
    "from fastai2.data.all import *\n",
    "from fastai2.vision.all import *\n",
    "from nbdev.showdoc import *"
   ]
  },
  {
   "cell_type": "code",
   "execution_count": null,
   "metadata": {},
   "outputs": [],
   "source": [
    "#exports\n",
    "path = untar_data(URLs.PETS)"
   ]
  },
  {
   "cell_type": "code",
   "execution_count": null,
   "metadata": {},
   "outputs": [],
   "source": [
    "#exports\n",
    "path_anno, path_img = [path/folder for folder in path.ls()]"
   ]
  },
  {
   "cell_type": "code",
   "execution_count": null,
   "metadata": {},
   "outputs": [
    {
     "data": {
      "text/plain": [
       "(#5) [Path('/home/holydemon/.fastai/data/oxford-iiit-pet/images/Sphynx_48.jpg'),Path('/home/holydemon/.fastai/data/oxford-iiit-pet/images/samoyed_126.jpg'),Path('/home/holydemon/.fastai/data/oxford-iiit-pet/images/boxer_20.jpg'),Path('/home/holydemon/.fastai/data/oxford-iiit-pet/images/scottish_terrier_161.jpg'),Path('/home/holydemon/.fastai/data/oxford-iiit-pet/images/shiba_inu_84.jpg')]"
      ]
     },
     "execution_count": null,
     "metadata": {},
     "output_type": "execute_result"
    }
   ],
   "source": [
    "#exports\n",
    "fname = get_image_files(path_img)\n",
    "fname[:5]"
   ]
  },
  {
   "cell_type": "code",
   "execution_count": null,
   "metadata": {},
   "outputs": [],
   "source": [
    "#exports\n",
    "pat = r'/(\\w+)_\\d+.jpg'\n",
    "\n",
    "dblock = DataBlock((ImageBlock,CategoryBlock),\n",
    "                    splitter=RandomSplitter(),\n",
    "                    get_items=get_image_files,\n",
    "                    item_tfms=Resize(224),\n",
    "                    batch_tfms=aug_transforms(),\n",
    "                    get_y=RegexLabeller(pat))"
   ]
  },
  {
   "cell_type": "code",
   "execution_count": null,
   "metadata": {},
   "outputs": [],
   "source": [
    "#exports\n",
    "dls = dblock.dataloaders(path_img, bs=4)"
   ]
  },
  {
   "cell_type": "markdown",
   "metadata": {},
   "source": [
    "# WandB\n",
    "Next we are going to integrate weights and biases to our training."
   ]
  },
  {
   "cell_type": "code",
   "execution_count": null,
   "metadata": {},
   "outputs": [],
   "source": [
    "import wandb\n",
    "from fastai2.callback.wandb import WandbCallback"
   ]
  },
  {
   "cell_type": "code",
   "execution_count": null,
   "metadata": {},
   "outputs": [],
   "source": [
    "project_id = \"PDL2019Lesson1\"\n",
    "\n",
    "wandb.init(project=project_id, entity=\"hoftherose\", tensorboard=True, sync_tensorboard=True, dir=\"..\")"
   ]
  },
  {
   "cell_type": "code",
   "execution_count": null,
   "metadata": {},
   "outputs": [],
   "source": [
    "callbacks = (WandbCallback())"
   ]
  },
  {
   "cell_type": "code",
   "execution_count": null,
   "metadata": {},
   "outputs": [],
   "source": [
    "#show\n",
    "learner = Learner(dls, resnet34(pretrained=True), metrics=error_rate)\n",
    "learner.fit_one_cycle(4, cbs=callbacks)\n",
    "learner.show_results()"
   ]
  },
  {
   "cell_type": "markdown",
   "metadata": {},
   "source": [
    "# Adding Tensorboard view and functionality"
   ]
  },
  {
   "cell_type": "code",
   "execution_count": null,
   "metadata": {},
   "outputs": [],
   "source": [
    "import tensorboard\n",
    "\n",
    "from fastai2.callback.tensorboard import TensorBoardCallback"
   ]
  },
  {
   "cell_type": "code",
   "execution_count": null,
   "metadata": {},
   "outputs": [
    {
     "data": {
      "text/html": [
       "\n",
       "                Logging results to <a href=\"https://wandb.com\" target=\"_blank\">Weights & Biases</a> <a href=\"https://docs.wandb.com/integrations/jupyter.html\" target=\"_blank\">(Documentation)</a>.<br/>\n",
       "                Project page: <a href=\"https://app.wandb.ai/hoftherose/PDL2019Lesson1\" target=\"_blank\">https://app.wandb.ai/hoftherose/PDL2019Lesson1</a><br/>\n",
       "                Run page: <a href=\"https://app.wandb.ai/hoftherose/PDL2019Lesson1/runs/pfw94utr\" target=\"_blank\">https://app.wandb.ai/hoftherose/PDL2019Lesson1/runs/pfw94utr</a><br/>\n",
       "            "
      ],
      "text/plain": [
       "<IPython.core.display.HTML object>"
      ]
     },
     "metadata": {},
     "output_type": "display_data"
    }
   ],
   "source": [
    "tboard_path = Path('../tensorboard/' + project_id)"
   ]
  },
  {
   "cell_type": "code",
   "execution_count": null,
   "metadata": {},
   "outputs": [],
   "source": [
    "callbacks = (WandbCallback(), TensorBoardCallback(log_dir=tboard_path))"
   ]
  },
  {
   "cell_type": "code",
   "execution_count": null,
   "metadata": {},
   "outputs": [],
   "source": [
    "#show\n",
    "learner = Learner(dls, resnet34(pretrained=True), metrics=error_rate)\n",
    "learner.fit_one_cycle(4, cbs=callbacks)\n",
    "learner.show_results()"
   ]
  },
  {
   "cell_type": "code",
   "execution_count": null,
   "metadata": {},
   "outputs": [],
   "source": []
  }
 ],
 "metadata": {
  "kernelspec": {
   "display_name": "Python 3",
   "language": "python",
   "name": "python3"
  }
 },
 "nbformat": 4,
 "nbformat_minor": 2
}
